{
 "cells": [
  {
   "cell_type": "code",
   "execution_count": 7,
   "metadata": {},
   "outputs": [
    {
     "name": "stdout",
     "output_type": "stream",
     "text": [
      "pressures: [0.273, 0.275, 0.277, 0.275, 0.276]\n",
      "length: 5\n",
      "zeroth item is: 0.273\n"
     ]
    }
   ],
   "source": [
    "pressures=[0.273,0.275,0.277,0.275,0.276]\n",
    "print('pressures:',pressures)\n",
    "print('length:', len(pressures))\n",
    "print('zeroth item is:', pressures[0])"
   ]
  },
  {
   "cell_type": "code",
   "execution_count": 4,
   "metadata": {},
   "outputs": [
    {
     "name": "stdout",
     "output_type": "stream",
     "text": [
      "zeroth item is now: 0.15\n"
     ]
    }
   ],
   "source": [
    "pressures[0]=0.15\n",
    "print('zeroth item is now:',pressures[0])"
   ]
  },
  {
   "cell_type": "code",
   "execution_count": 14,
   "metadata": {},
   "outputs": [
    {
     "name": "stdout",
     "output_type": "stream",
     "text": [
      "[0.273, 0.275, 0.277, 0.275, 0.276, 0.333, 0.333, 0.333, 0.333, 0.333, 0.333, 0.333]\n"
     ]
    }
   ],
   "source": [
    "pressures.append(0.333)\n",
    "print(pressures)"
   ]
  },
  {
   "cell_type": "code",
   "execution_count": 31,
   "metadata": {},
   "outputs": [
    {
     "name": "stdout",
     "output_type": "stream",
     "text": [
      "[0.273, 0.275, 0.277, 0.275]\n"
     ]
    }
   ],
   "source": [
    "del pressures[-1]\n",
    "print(pressures)"
   ]
  },
  {
   "cell_type": "markdown",
   "metadata": {},
   "source": [
    "Let's explore for-loops"
   ]
  },
  {
   "cell_type": "code",
   "execution_count": 44,
   "metadata": {},
   "outputs": [
    {
     "name": "stdout",
     "output_type": "stream",
     "text": [
      "0 0 0\n",
      "2 4 4\n",
      "5 10 25\n",
      "10 20 100\n"
     ]
    }
   ],
   "source": [
    "#'banana' is not important, just a variable\n",
    "for banana in [0,2,5,10]:\n",
    "    doubled=banana*2\n",
    "    squared=banana**2\n",
    "    print(banana,doubled,squared)"
   ]
  },
  {
   "cell_type": "code",
   "execution_count": 53,
   "metadata": {},
   "outputs": [
    {
     "name": "stdout",
     "output_type": "stream",
     "text": [
      "( ͡° ͜ʖ ͡°)\n",
      "( ͡° ͜ʖ ͡°)\n",
      "( ͡° ͜ʖ ͡°)\n",
      "( ͡° ͜ʖ ͡°)\n",
      "( ͡° ͜ʖ ͡°)\n",
      "( ͡° ͜ʖ ͡°)\n",
      "( ͡° ͜ʖ ͡°)\n",
      "( ͡° ͜ʖ ͡°)\n",
      "( ͡° ͜ʖ ͡°)\n",
      "( ͡° ͜ʖ ͡°)\n",
      "10\n"
     ]
    }
   ],
   "source": [
    "#sum of the first 10 integers\n",
    "count=0\n",
    "\n",
    "for number in range(10):\n",
    "    count=count+1\n",
    "    print('( ͡° ͜ʖ ͡°)')\n",
    "    \n",
    "print(count)"
   ]
  },
  {
   "cell_type": "markdown",
   "metadata": {},
   "source": [
    "creating our own functions"
   ]
  },
  {
   "cell_type": "code",
   "execution_count": 56,
   "metadata": {},
   "outputs": [],
   "source": [
    "def print_greeting():\n",
    "    print('( ° ͜ʖ °)')"
   ]
  },
  {
   "cell_type": "code",
   "execution_count": 59,
   "metadata": {},
   "outputs": [
    {
     "name": "stdout",
     "output_type": "stream",
     "text": [
      "( ° ͜ʖ °)\n"
     ]
    }
   ],
   "source": [
    "print_greeting()"
   ]
  },
  {
   "cell_type": "code",
   "execution_count": 64,
   "metadata": {},
   "outputs": [],
   "source": [
    "def print_date(year,month,day):\n",
    "    joined=str(year)+'/'+str(month)+'/'+str(day)\n",
    "    print(joined)"
   ]
  },
  {
   "cell_type": "code",
   "execution_count": 67,
   "metadata": {},
   "outputs": [
    {
     "name": "stdout",
     "output_type": "stream",
     "text": [
      "2018/7/10\n",
      "2018/7/10\n"
     ]
    }
   ],
   "source": [
    "print_date(2018,7,10)\n",
    "print_date(day=10,month=7,year=2018)"
   ]
  },
  {
   "cell_type": "code",
   "execution_count": 71,
   "metadata": {},
   "outputs": [],
   "source": [
    "def average(values):\n",
    "    #if\n",
    "    if len(values)==0:\n",
    "        #then\n",
    "        return None\n",
    "    #else\n",
    "    return sum(values)/len(values)"
   ]
  },
  {
   "cell_type": "code",
   "execution_count": 74,
   "metadata": {},
   "outputs": [
    {
     "name": "stdout",
     "output_type": "stream",
     "text": [
      "87663.66666666667\n"
     ]
    }
   ],
   "source": [
    "#values works because ther is a list of integers (values is just a variable)\n",
    "a=average([203,239048,23740])\n",
    "print(a)"
   ]
  },
  {
   "cell_type": "code",
   "execution_count": 90,
   "metadata": {},
   "outputs": [
    {
     "name": "stdout",
     "output_type": "stream",
     "text": [
      "1 is not large\n",
      "2 is not large\n",
      "3 is medium\n",
      "4 is large\n",
      "5 is large\n"
     ]
    }
   ],
   "source": [
    "masses = [1,2,3,4,5]\n",
    "for m in masses:\n",
    "    if m>3.0:\n",
    "        print(m, 'is large')\n",
    "    elif m ==3.0:\n",
    "        print(m,\"is medium\")\n",
    "    else:\n",
    "            print(m,'is not large')"
   ]
  },
  {
   "cell_type": "markdown",
   "metadata": {},
   "source": []
  }
 ],
 "metadata": {
  "kernelspec": {
   "display_name": "Python 3",
   "language": "python",
   "name": "python3"
  },
  "language_info": {
   "codemirror_mode": {
    "name": "ipython",
    "version": 3
   },
   "file_extension": ".py",
   "mimetype": "text/x-python",
   "name": "python",
   "nbconvert_exporter": "python",
   "pygments_lexer": "ipython3",
   "version": "3.6.5"
  }
 },
 "nbformat": 4,
 "nbformat_minor": 2
}
